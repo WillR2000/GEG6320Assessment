{
 "cells": [
  {
   "cell_type": "markdown",
   "metadata": {},
   "source": [
    "# Calculating and plotting the Fs Values in Coweeta, North Carolina\n",
    "## GEG6230 Assessment 2"
   ]
  },
  {
   "cell_type": "markdown",
   "metadata": {},
   "source": [
    "### Importing Packages"
   ]
  },
  {
   "cell_type": "code",
   "execution_count": 1,
   "metadata": {},
   "outputs": [],
   "source": [
    "import os\n",
    "import fiona\n",
    "from glob import glob\n",
    "from rasterstats import zonal_stats\n",
    "from shapely.geometry import shape, mapping, Polygon\n",
    "import math\n",
    "import matplotlib.pyplot as plt\n",
    "\n",
    "# Importing all necessary packages for plotting and calculations involving shapefiles.\n",
    "# Abbreviations used where it is consistent with the wider community."
   ]
  },
  {
   "cell_type": "markdown",
   "metadata": {},
   "source": [
    "### Loading Shapefiles"
   ]
  },
  {
   "cell_type": "code",
   "execution_count": 2,
   "metadata": {},
   "outputs": [
    {
     "name": "stdout",
     "output_type": "stream",
     "text": [
      "['Data/scars\\\\scar_6.shp', 'Data/scars\\\\scar_7.shp', 'Data/scars\\\\scar_5.shp', 'Data/scars\\\\scar_4.shp', 'Data/scars\\\\scar_1.shp', 'Data/scars\\\\scar_3.shp', 'Data/scars\\\\scar_2.shp', 'Data/scars\\\\scar_14.shp', 'Data/scars\\\\scar_15.shp', 'Data/scars\\\\scar_12.shp', 'Data/scars\\\\scar_13.shp', 'Data/scars\\\\scar_11.shp', 'Data/scars\\\\scar_10.shp', 'Data/scars\\\\scar_9.shp', 'Data/scars\\\\scar_8.shp']\n"
     ]
    }
   ],
   "source": [
    "scar_files = glob('Data/scars/scar_*.shp') # Identify and extract the correct files from a wider file system.\n",
    "print(scar_files) # Quick test to ensure we have the right files before starting."
   ]
  },
  {
   "cell_type": "markdown",
   "metadata": {},
   "source": [
    "### Calculating the Fs Values"
   ]
  },
  {
   "cell_type": "code",
   "execution_count": 3,
   "metadata": {
    "scrolled": true
   },
   "outputs": [
    {
     "name": "stdout",
     "output_type": "stream",
     "text": [
      "3.45\n",
      "2.91\n",
      "2.66\n",
      "3.43\n",
      "1.95\n",
      "1.66\n",
      "0.88\n",
      "1.36\n",
      "3.03\n",
      "2.64\n",
      "1.86\n",
      "2.66\n",
      "1.56\n",
      "1.97\n",
      "3.21\n"
     ]
    }
   ],
   "source": [
    "for filename in scar_files: # Opens loop to iterate over each file in scar_files.\n",
    "    with fiona.open(filename) as shapefile: # Opens each file as a shapefile.\n",
    "        \n",
    "        depth = shapefile[0]['properties']['soil_depth'] # Isolating and extracting Soil Depth data to be used in the calculations.\n",
    "        print(depth) # Quick test that the above has worked."
   ]
  },
  {
   "cell_type": "code",
   "execution_count": 4,
   "metadata": {},
   "outputs": [],
   "source": [
    "results = {} # Opens a dictionary to store results.\n",
    "for filename in scar_files: # Re-opens loop for iteration.\n",
    "    with fiona.open(filename) as shapefile: # Opens each file as a shapefile.\n",
    "        \n",
    "        scar = shape(shapefile[0]['geometry']) # Identifies the area of each scar to be used in the max slope radian calculation.\n",
    "        stats = zonal_stats(scar, 'Data/Coweeta_slope.tif', stats='max') # Calculates the max slope radian for each scar.\n",
    "        slope = stats[0]['max'] # Assigns each max slope value to the right scar.\n",
    "        sinslope = (math.sin(slope)) # Calculates the Sin of the Slope\n",
    "        cosslope = (math.cos(slope)) # Calculates the Cos of the Slope\n",
    "        \n",
    "        cohesion = shapefile[0]['properties']['cohesion'] # Identifies and extracts the Cohesion data for the calculation.\n",
    "        \n",
    "        density = shapefile[0]['properties']['soil_dens'] # Identifies and extracts the Soil Density data for the calculation.\n",
    "        \n",
    "        constant = shapefile[0]['properties']['hydro_cons']# Identifies and extracts the Hydrological Constant data for the calculation.\n",
    "        \n",
    "        angle = shapefile[0]['properties']['frict_ang'] # Identifies and extracts the Friction Angle data for the calculation.\n",
    "        tanangle = (math.tan(angle)) # Calculates Tan of the Friction Angle\n",
    "        \n",
    "        depth = shapefile[0]['properties']['soil_depth'] # Identifies and extracts the Soil Depth data for the calculation.\n",
    "        \n",
    "        grav = 9.81\n",
    "        \n",
    "        A = cohesion\n",
    "        B = (depth * density * grav)\n",
    "        C = (constant * cosslope * tanangle)\n",
    "        D = sinslope\n",
    "        \n",
    "        # ABCD correlates to each quarter of the equation to be completed. BC include necessary multiplication for the equation.\n",
    "        \n",
    "        Fs = ((A/B)+(C/D)) # Simply calculates the equation using the values from each corner above.\n",
    "        \n",
    "        filename_no_ext = os.path.splitext(filename)[0]\n",
    "        scar_name = os.path.basename(filename_no_ext) # Removes .shp extension from each file for dictionary storage.\n",
    "        \n",
    "        results[scar_name] = Fs # Appends the dictionary with Fs values and Scar name keys.\n",
    "        \n",
    "        "
   ]
  },
  {
   "cell_type": "code",
   "execution_count": 5,
   "metadata": {
    "scrolled": true
   },
   "outputs": [
    {
     "name": "stdout",
     "output_type": "stream",
     "text": [
      "{'scar_6': 0.7142202781774417, 'scar_7': 1.0180354150937305, 'scar_5': 0.9292737255897751, 'scar_4': 0.6284499767180936, 'scar_1': 0.9139360173361673, 'scar_3': 0.8805113890696252, 'scar_2': 0.7021858292811541, 'scar_14': 0.6075803654578191, 'scar_15': 0.7679093792059194, 'scar_12': 0.9368672777811635, 'scar_13': 0.7091072930638446, 'scar_11': 1.2312879141747894, 'scar_10': 0.6687958107771624, 'scar_9': 1.0001605104138283, 'scar_8': 1.1842049653823656}\n"
     ]
    }
   ],
   "source": [
    "print(results) # Checks that all scars have a value and the calculation has been completed."
   ]
  },
  {
   "cell_type": "code",
   "execution_count": 6,
   "metadata": {},
   "outputs": [
    {
     "name": "stdout",
     "output_type": "stream",
     "text": [
      "[0.7142202781774417, 1.0180354150937305, 0.9292737255897751, 0.6284499767180936, 0.9139360173361673, 0.8805113890696252, 0.7021858292811541, 0.6075803654578191, 0.7679093792059194, 0.9368672777811635, 0.7091072930638446, 1.2312879141747894, 0.6687958107771624, 1.0001605104138283, 1.1842049653823656]\n"
     ]
    }
   ],
   "source": [
    "results_list = [] # Created to input dictionary values for plotting.\n",
    "\n",
    "for key, value in results.items():\n",
    "    results_list.append(value) # Iterates through each dictionary key and appends the list with each value.\n",
    "    \n",
    "print(results_list) # Checks all values are present and identical."
   ]
  },
  {
   "cell_type": "markdown",
   "metadata": {},
   "source": [
    "### Creating the Boxplot"
   ]
  },
  {
   "cell_type": "code",
   "execution_count": 7,
   "metadata": {
    "scrolled": true
   },
   "outputs": [
    {
     "data": {
      "image/png": "[encoded data removed]",
      "text/plain": [
       "<Figure size 432x288 with 1 Axes>"
      ]
     },
     "metadata": {
      "needs_background": "light"
     },
     "output_type": "display_data"
    }
   ],
   "source": [
    "plt.boxplot(results_list) \n",
    "\n",
    "plt.title('Factor of Safety Values \\n (Fs) Spread \\n in Coweeta, NC \\n ', fontsize=18, x=0.24) # Moves title to left to utilise space in a better way.\n",
    "plt.ylabel('Fs')\n",
    "plt.box(on=None) # Removes outer-box which doesnt align with more compact graph.\n",
    "plt.ylim(0.6, 1.3) # Adds new limit to include 1.3 and fit in each range value.\n",
    "plt.xlim(0.9,1.3) # Moves singular X value (1) onto the left for easier annotation with values on Y axis.\n",
    "\n",
    "plt.plot([0.91, 1.09], [1, 1], linestyle='--', color='r') # Adds failure threshold line to indicate how the spread of values fares against the failure score.\n",
    "\n",
    "ax = plt.gca()\n",
    "label=ax.get_xticklabels()\n",
    "label[0]=('Coweeta, NC')\n",
    "ax.set_xticklabels(label)\n",
    "\n",
    "# This section removes the numerical value on the X axis and allows for annotation with the location (Coweeta, NC).\n",
    "\n",
    "plt.savefig('Fs_Values_Boxplot.svg')"
   ]
  }
 ],
 "metadata": {
  "kernelspec": {
   "display_name": "Python 3",
   "language": "python",
   "name": "python3"
  },
  "language_info": {
   "codemirror_mode": {
    "name": "ipython",
    "version": 3
   },
   "file_extension": ".py",
   "mimetype": "text/x-python",
   "name": "python",
   "nbconvert_exporter": "python",
   "pygments_lexer": "ipython3",
   "version": "3.7.3"
  }
 },
 "nbformat": 4,
 "nbformat_minor": 4
}